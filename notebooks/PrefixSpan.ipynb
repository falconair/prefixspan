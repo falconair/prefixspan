{
 "cells": [
  {
   "cell_type": "code",
   "execution_count": 1,
   "metadata": {},
   "outputs": [],
   "source": [
    "import sys"
   ]
  },
  {
   "cell_type": "code",
   "execution_count": 33,
   "metadata": {},
   "outputs": [],
   "source": [
    "#!{sys.executable} -m pip install treelib\n",
    "#!conda install --yes --prefix {sys.prefix} graphviz\n",
    "#!{sys.executable} -m pip install pixiedust"
   ]
  },
  {
   "cell_type": "code",
   "execution_count": 34,
   "metadata": {},
   "outputs": [],
   "source": [
    "import treelib\n",
    "#import graphviz\n",
    "import collections\n",
    "#import pixiedust"
   ]
  },
  {
   "cell_type": "markdown",
   "metadata": {},
   "source": [
    "# This notebook implements the prefixspan algorithm to find frequent sequences\n",
    "\n",
    "### The algorithm\n",
    "\n",
    "A **D**atabase of transactions [(tid, ts, event)]\n",
    "1. Convert to list of of events, per tid in ts order [{tid: [event1, event2, event3]}\n",
    "2. For each event, count how often it occurs: {event: count}\n",
    "3. For a given support, remove events which have counts fewer than support\n",
    "4. "
   ]
  },
  {
   "cell_type": "code",
   "execution_count": 35,
   "metadata": {},
   "outputs": [],
   "source": [
    "database = {\n",
    "     1: 'C,A,G,A,A,G,T'.split(',')\n",
    "    ,2: 'T,G,A,C,A,G'.split(',')\n",
    "    ,3: 'G,A,A,G,T'.split(',')\n",
    "}"
   ]
  },
  {
   "cell_type": "code",
   "execution_count": 36,
   "metadata": {},
   "outputs": [],
   "source": [
    "def calcsup(database, minsup, prune=True):\n",
    "    elem2sup = collections.defaultdict(int)\n",
    "    for key, val in database.items():\n",
    "        for e in set(val):\n",
    "            elem2sup[e] += 1\n",
    "    if prune: return { k:v for k,v in elem2sup.items() if v >= minsup }\n",
    "    else: return elem2sup"
   ]
  },
  {
   "cell_type": "code",
   "execution_count": 65,
   "metadata": {},
   "outputs": [],
   "source": [
    "def project(events, target, freqElements):\n",
    "    if target not in events: \n",
    "        return [e for e in events]\n",
    "    else:\n",
    "        return [e for e in events[events.index(target) + 1:] if e in freqElements]"
   ]
  },
  {
   "cell_type": "code",
   "execution_count": 38,
   "metadata": {},
   "outputs": [],
   "source": [
    "def projectDB(database, target, minsup, freqElements):\n",
    "    newdb = {}\n",
    "    for key, val in database.items():\n",
    "        newdb[key] = project(val, target, freqElements)\n",
    "    return newdb"
   ]
  },
  {
   "cell_type": "code",
   "execution_count": 60,
   "metadata": {},
   "outputs": [],
   "source": [
    "def prefixspan(database, minsup, node='null'):\n",
    "    freqSeq = calcsup(database, minsup)\n",
    "    for freqElem, freq in freqSeq.items():\n",
    "        projectedDB = projectDB(database, freqElem, minsup, freqSeq)\n",
    "        print(node, freqElem, projectedDB)"
   ]
  },
  {
   "cell_type": "code",
   "execution_count": 40,
   "metadata": {},
   "outputs": [
    {
     "data": {
      "text/plain": [
       "{1: ['C', 'A', 'G', 'A', 'A', 'G', 'T'],\n",
       " 2: ['T', 'G', 'A', 'C', 'A', 'G'],\n",
       " 3: ['G', 'A', 'A', 'G', 'T']}"
      ]
     },
     "execution_count": 40,
     "metadata": {},
     "output_type": "execute_result"
    }
   ],
   "source": [
    "database"
   ]
  },
  {
   "cell_type": "code",
   "execution_count": 41,
   "metadata": {},
   "outputs": [
    {
     "data": {
      "text/plain": [
       "{1: ['A', 'A', 'G', 'T'], 2: ['A', 'A', 'G'], 3: ['A', 'A', 'G', 'T']}"
      ]
     },
     "execution_count": 41,
     "metadata": {},
     "output_type": "execute_result"
    }
   ],
   "source": [
    "projectDB(database, 'G', 3, calcsup(database, 3))"
   ]
  },
  {
   "cell_type": "code",
   "execution_count": 42,
   "metadata": {},
   "outputs": [
    {
     "data": {
      "text/plain": [
       "{'T': 3, 'A': 3, 'G': 3}"
      ]
     },
     "execution_count": 42,
     "metadata": {},
     "output_type": "execute_result"
    }
   ],
   "source": [
    "calcsup(database, 3, prune=True)"
   ]
  },
  {
   "cell_type": "code",
   "execution_count": 43,
   "metadata": {},
   "outputs": [
    {
     "data": {
      "text/plain": [
       "['A', 'A', 'G', 'T']"
      ]
     },
     "execution_count": 43,
     "metadata": {},
     "output_type": "execute_result"
    }
   ],
   "source": [
    "project(database[1], 'G', calcsup(database, 3))"
   ]
  },
  {
   "cell_type": "code",
   "execution_count": 66,
   "metadata": {},
   "outputs": [
    {
     "name": "stdout",
     "output_type": "stream",
     "text": [
      "null T {1: [], 2: ['G', 'A', 'A', 'G'], 3: []}\n",
      "null A {1: ['G', 'A', 'A', 'G', 'T'], 2: ['A', 'G'], 3: ['A', 'G', 'T']}\n",
      "null G {1: ['A', 'A', 'G', 'T'], 2: ['A', 'A', 'G'], 3: ['A', 'A', 'G', 'T']}\n"
     ]
    }
   ],
   "source": [
    "prefixspan(database, 3)"
   ]
  },
  {
   "cell_type": "code",
   "execution_count": null,
   "metadata": {},
   "outputs": [],
   "source": []
  }
 ],
 "metadata": {
  "kernelspec": {
   "display_name": "Python 3",
   "language": "python",
   "name": "python3"
  },
  "language_info": {
   "codemirror_mode": {
    "name": "ipython",
    "version": 3
   },
   "file_extension": ".py",
   "mimetype": "text/x-python",
   "name": "python",
   "nbconvert_exporter": "python",
   "pygments_lexer": "ipython3",
   "version": "3.7.3"
  }
 },
 "nbformat": 4,
 "nbformat_minor": 2
}
